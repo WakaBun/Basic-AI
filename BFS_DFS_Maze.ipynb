{
 "cells": [
  {
   "cell_type": "markdown",
   "metadata": {},
   "source": [
    "Using BFS and DFS algorithm to solve Maze problem"
   ]
  },
  {
   "cell_type": "code",
   "execution_count": 1,
   "metadata": {},
   "outputs": [],
   "source": [
    "from collections import deque\n",
    "import matplotlib.pyplot as plt\n",
    "import numpy as np\n",
    "\n",
    "class Maze:\n",
    "    def __init__(self, maze, start_position, goal_position):\n",
    "        # Initialize Maze object with the provided maze, start_position, and goal position\n",
    "        self.maze = maze\n",
    "        self.maze_height = maze.shape[0] # Get the height of the maze (number of rows)\n",
    "        self.maze_width = maze.shape[1]  # Get the width of the maze (number of columns)\n",
    "        self.start_position = start_position    # Set the start position in the maze as a tuple (x, y)\n",
    "        self.goal_position = goal_position      # Set the goal position in the maze as a tuple (x, y)\n",
    "\n",
    "    def show_maze(self):\n",
    "        # Visualize the maze using Matplotlib\n",
    "        plt.figure(figsize=(5,5))\n",
    "\n",
    "        # Display the maze as an image in grayscale ('gray' colormap)\n",
    "        plt.imshow(self.maze, cmap='gray')\n",
    "\n",
    "        # Add start and goal positions as 'S' and 'G'\n",
    "        plt.text(self.start_position[1], self.start_position[0], 'S', ha='center', va='center', color='red', fontsize=20)\n",
    "        plt.text(self.goal_position[1], self.goal_position[0], 'G', ha='center', va='center', color='green', fontsize=20)\n",
    "\n",
    "        # Remove ticks and labels from the axes\n",
    "        plt.xticks([]), plt.yticks([])\n",
    "\n",
    "        # Show the plot\n",
    "        plt.show()\n",
    "\n",
    "    def plot_path(self, path, visited_nodes):\n",
    "        # Visualize the maze with the path and visited nodes using Matplotlib\n",
    "        plt.figure(figsize=(5,5))\n",
    "\n",
    "        # Display the maze as an image in grayscale ('gray' colormap)\n",
    "        plt.imshow(self.maze, cmap='gray')\n",
    "\n",
    "        # Add start and goal positions as 'S' and 'G'\n",
    "        plt.text(self.start_position[1], self.start_position[0], 'S', ha='center', va='center', color='red', fontsize=20)\n",
    "        plt.text(self.goal_position[1], self.goal_position[0], 'G', ha='center', va='center', color='green', fontsize=20)\n",
    "\n",
    "        # Highlight the path with a red line\n",
    "        path_x = [pos[1] for pos in path]\n",
    "        path_y = [pos[0] for pos in path]\n",
    "        plt.plot(path_x, path_y, color='red', linewidth=2)\n",
    "\n",
    "        # Mark the visited nodes with blue dots\n",
    "        visited_x = [pos[1] for pos in visited_nodes]\n",
    "        visited_y = [pos[0] for pos in visited_nodes]\n",
    "        plt.scatter(visited_x, visited_y, color='blue', marker='o')\n",
    "\n",
    "        # Remove ticks and labels from the axes\n",
    "        plt.xticks([]), plt.yticks([])\n",
    "\n",
    "        # Show the plot\n",
    "        plt.show()"
   ]
  },
  {
   "cell_type": "code",
   "execution_count": 2,
   "metadata": {},
   "outputs": [],
   "source": [
    "maze_layout = np.array([\n",
    "    [0, 1, 0, 0, 0],\n",
    "    [0, 1, 1, 1, 0],\n",
    "    [0, 0, 0, 1, 0],\n",
    "    [1, 1, 0, 1, 1],\n",
    "    [0, 0, 0, 0, 0]\n",
    "])"
   ]
  },
  {
   "cell_type": "code",
   "execution_count": 3,
   "metadata": {},
   "outputs": [
    {
     "data": {
      "image/png": "[encoded data removed]",
      "text/plain": [
       "<Figure size 500x500 with 1 Axes>"
      ]
     },
     "metadata": {},
     "output_type": "display_data"
    }
   ],
   "source": [
    "# Create an instance of the maze and set the starting and ending positions\n",
    "maze = Maze(maze_layout, (0, 0), (4, 4))\n",
    "# Visualize the maze\n",
    "maze.show_maze()\n"
   ]
  },
  {
   "cell_type": "code",
   "execution_count": 4,
   "metadata": {},
   "outputs": [],
   "source": [
    "class DFS:\n",
    "    def __init__(self, maze):\n",
    "        self.maze = maze\n",
    "        self.visited = set()\n",
    "        self.stack = deque([(maze.start_position,[])])\n",
    "    def find_path(self):\n",
    "        while self.stack:\n",
    "            position , path = self.stack.pop()\n",
    "            row, col = position\n",
    "            if position ==  self.maze.goal_position:\n",
    "                return path + [position]\n",
    "            if(\n",
    "                0 <= row < self.maze.maze_height \n",
    "                and 0 <= col <= self.maze.maze_width \n",
    "                and self.maze.maze[row][col] == 0 \n",
    "                and position not in self.visited\n",
    "            ):\n",
    "                self.visited.add(position)\n",
    "                # print(position)\n",
    "                # print(path)\n",
    "                # print(path + [position])\n",
    "                # print(self.stack)\n",
    "                self.stack.append([position, path + [position]])\n",
    "                self.stack.append([(row - 1, col), path + [position]])\n",
    "                self.stack.append([(row + 1, col), path + [position]])\n",
    "                self.stack.append([(row, col - 1), path + [position]])\n",
    "                self.stack.append([(row, col + 1), path + [position]])\n"
   ]
  },
  {
   "cell_type": "code",
   "execution_count": 5,
   "metadata": {},
   "outputs": [],
   "source": [
    "class BFS:\n",
    "    def __init__(self, maze):\n",
    "        self.maze = maze\n",
    "        self.visited = set()\n",
    "        self.stack = deque([(maze.start_position,[])])\n",
    "    def find_path(self):\n",
    "        while self.stack:\n",
    "            position , path = self.stack.popleft()\n",
    "            row, col = position\n",
    "            if position ==  self.maze.goal_position:\n",
    "                return path + [position]\n",
    "            if(\n",
    "                0 <= row < self.maze.maze_height \n",
    "                and 0 <= col <= self.maze.maze_width \n",
    "                and self.maze.maze[row][col] == 0 \n",
    "                and position not in self.visited\n",
    "            ):\n",
    "                self.visited.add(position)\n",
    "                self.stack.append([position, path + [position]])\n",
    "                self.stack.append([(row - 1, col), path + [position]])\n",
    "                self.stack.append([(row + 1, col), path + [position]])\n",
    "                self.stack.append([(row, col - 1), path + [position]])\n",
    "                self.stack.append([(row, col + 1), path + [position]])\n"
   ]
  },
  {
   "cell_type": "code",
   "execution_count": 6,
   "metadata": {},
   "outputs": [
    {
     "name": "stdout",
     "output_type": "stream",
     "text": [
      "DFS path [(0, 0), (1, 0), (2, 0), (2, 1), (2, 2), (3, 2), (4, 2), (4, 3), (4, 4)]\n"
     ]
    },
    {
     "data": {
      "image/png": "[encoded data removed]",
      "text/plain": [
       "<Figure size 500x500 with 1 Axes>"
      ]
     },
     "metadata": {},
     "output_type": "display_data"
    }
   ],
   "source": [
    "dfs = DFS(maze)\n",
    "dfs_path = dfs.find_path()\n",
    "if dfs_path is not None:\n",
    "    print(\"DFS path\",dfs_path)\n",
    "    visited_nodes = dfs.visited\n",
    "    maze.plot_path(dfs_path, visited_nodes)\n",
    "else:\n",
    "    print(\"No path found by using DFS\")\n"
   ]
  },
  {
   "cell_type": "code",
   "execution_count": 7,
   "metadata": {},
   "outputs": [
    {
     "name": "stdout",
     "output_type": "stream",
     "text": [
      "DFS path [(0, 0), (1, 0), (2, 0), (2, 1), (2, 2), (3, 2), (4, 2), (4, 3), (4, 4)]\n"
     ]
    },
    {
     "data": {
      "image/png": "[encoded data removed]",
      "text/plain": [
       "<Figure size 500x500 with 1 Axes>"
      ]
     },
     "metadata": {},
     "output_type": "display_data"
    }
   ],
   "source": [
    "bfs = BFS(maze)\n",
    "bfs_path = bfs.find_path()\n",
    "if bfs_path is not None:\n",
    "    print(\"DFS path\",bfs_path)\n",
    "    visited_nodes = bfs.visited\n",
    "    maze.plot_path(bfs_path, visited_nodes)\n",
    "else:\n",
    "    print(\"No path found by using BFS\")\n"
   ]
  }
 ],
 "metadata": {
  "kernelspec": {
   "display_name": "Python 3",
   "language": "python",
   "name": "python3"
  },
  "language_info": {
   "codemirror_mode": {
    "name": "ipython",
    "version": 3
   },
   "file_extension": ".py",
   "mimetype": "text/x-python",
   "name": "python",
   "nbconvert_exporter": "python",
   "pygments_lexer": "ipython3",
   "version": "3.11.2"
  }
 },
 "nbformat": 4,
 "nbformat_minor": 2
}
