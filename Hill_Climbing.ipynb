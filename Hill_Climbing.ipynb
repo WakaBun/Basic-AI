{
 "cells": [
  {
   "cell_type": "markdown",
   "metadata": {},
   "source": [
    "Hill climbing algorithm\n"
   ]
  },
  {
   "cell_type": "code",
   "execution_count": 1,
   "metadata": {},
   "outputs": [],
   "source": [
    "initial_state = [[3,1,2],\n",
    "                 [4,5,8],\n",
    "                 [6,0,7]]\n",
    "goal_state = [[0,1,2],\n",
    "              [3,4,5],\n",
    "              [6,7,8]]"
   ]
  },
  {
   "cell_type": "code",
   "execution_count": 2,
   "metadata": {},
   "outputs": [],
   "source": [
    "def heuristic(state):\n",
    "    h = 0\n",
    "    for i in range(3):\n",
    "        for j in range(3):\n",
    "            if state[i][j] != goal_state[i][j]:\n",
    "                h = h + 1\n",
    "    return h"
   ]
  },
  {
   "cell_type": "code",
   "execution_count": 3,
   "metadata": {},
   "outputs": [
    {
     "data": {
      "text/plain": [
       "[[[3, 1, 2], [4, 0, 8], [6, 5, 7]],\n",
       " [[3, 1, 2], [4, 5, 8], [0, 6, 7]],\n",
       " [[3, 1, 2], [4, 5, 8], [6, 7, 0]]]"
      ]
     },
     "execution_count": 3,
     "metadata": {},
     "output_type": "execute_result"
    }
   ],
   "source": [
    "def get_neighbors(state):\n",
    "    neighbors_list = []\n",
    "    for i in range(3):\n",
    "        for j in range(3):\n",
    "            if state[i][j] == 0:\n",
    "                # up \n",
    "                if i > 0:\n",
    "                    new_state_up = [rows.copy() for rows in state]\n",
    "                    # new_state_up[i][j] =  new_state_up[i-1][j]\n",
    "                    # new_state_up[i-1][j] =  new_state_up[i][j]\n",
    "                    new_state_up[i][j], new_state_up[i-1][j] =  new_state_up[i-1][j],new_state_up[i][j]\n",
    "                    neighbors_list.append(new_state_up)\n",
    "                # down\n",
    "                if i < 2:\n",
    "                    new_state_down = [rows.copy() for rows in state]\n",
    "                    new_state_down[i][j], new_state_down[i+1][j] = new_state_down[i+1][j], new_state_down[i][j] \n",
    "                    neighbors_list.append(new_state_down)\n",
    "                # left \n",
    "                if j > 0:\n",
    "                    new_state_left = [rows.copy() for rows in state]\n",
    "                    new_state_left[i][j-1],new_state_left[i][j] = new_state_left[i][j],new_state_left[i][j-1]\n",
    "                    neighbors_list.append(new_state_left)\n",
    "                # right\n",
    "                if j < 2:\n",
    "                    new_state_right = [rows.copy() for rows in state]\n",
    "                    new_state_right[i][j+1],new_state_right[i][j] = new_state_right[i][j],new_state_right[i][j+1]\n",
    "                    neighbors_list.append(new_state_right)\n",
    "    return neighbors_list\n",
    "\n",
    "neighbors = get_neighbors(initial_state)\n",
    "neighbors\n"
   ]
  },
  {
   "cell_type": "code",
   "execution_count": 7,
   "metadata": {},
   "outputs": [],
   "source": [
    "def best_state(neighbors):\n",
    "    h = float('inf')\n",
    "    for n in range(len(neighbors)):\n",
    "        if h > heuristic(neighbors[n]):\n",
    "            h = heuristic(neighbors[n])\n",
    "            best_state = neighbors[n]\n",
    "            print(h, best_state)\n",
    "    return best_state"
   ]
  },
  {
   "cell_type": "code",
   "execution_count": 5,
   "metadata": {},
   "outputs": [],
   "source": [
    "def hill_climbing(initial_state):\n",
    "    current_state = initial_state\n",
    "    current_heuristic = heuristic(initial_state)\n",
    "    while current_heuristic > 0:\n",
    "        neighbors = get_neighbors(current_state)\n",
    "        # current_state = best_state(neighbors)\n",
    "        current_state = min(neighbors, key= heuristic)\n",
    "        current_heuristic = heuristic(current_state)\n",
    "    return current_state\n"
   ]
  },
  {
   "cell_type": "code",
   "execution_count": 6,
   "metadata": {},
   "outputs": [
    {
     "data": {
      "text/plain": [
       "[[0, 1, 2], [3, 4, 5], [6, 7, 8]]"
      ]
     },
     "execution_count": 6,
     "metadata": {},
     "output_type": "execute_result"
    }
   ],
   "source": [
    "hill_climbing(initial_state)"
   ]
  }
 ],
 "metadata": {
  "kernelspec": {
   "display_name": "Python 3",
   "language": "python",
   "name": "python3"
  },
  "language_info": {
   "codemirror_mode": {
    "name": "ipython",
    "version": 3
   },
   "file_extension": ".py",
   "mimetype": "text/x-python",
   "name": "python",
   "nbconvert_exporter": "python",
   "pygments_lexer": "ipython3",
   "version": "3.11.2"
  }
 },
 "nbformat": 4,
 "nbformat_minor": 2
}
